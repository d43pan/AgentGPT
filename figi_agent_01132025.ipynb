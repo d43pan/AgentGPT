{
  "cells": [
    {
      "cell_type": "markdown",
      "metadata": {
        "id": "view-in-github",
        "colab_type": "text"
      },
      "source": [
        "<a href=\"https://colab.research.google.com/github/d43pan/AgentGPT/blob/main/figi_agent_01132025.ipynb\" target=\"_parent\"><img src=\"https://colab.research.google.com/assets/colab-badge.svg\" alt=\"Open In Colab\"/></a>"
      ]
    },
    {
      "cell_type": "code",
      "execution_count": null,
      "metadata": {
        "id": "oA9F3K3rZBp3"
      },
      "outputs": [],
      "source": [
        "# Standard library imports\n",
        "import os\n",
        "\n",
        "# Third-party imports\n",
        "import pandas as pd\n",
        "from openfigipy import OpenFigiClient\n",
        "\n",
        "# LlamaIndex imports\n",
        "from llama_index.agent.openai import OpenAIAgent\n",
        "from llama_index.core.llms import ChatMessage\n",
        "from llama_index.llms.openai import OpenAI as LlamaOpenAI\n",
        "from llama_index.core.tools import FunctionTool"
      ]
    },
    {
      "cell_type": "code",
      "execution_count": null,
      "metadata": {
        "id": "6RZtyvMvZBp5"
      },
      "outputs": [],
      "source": [
        "# Configuration\n",
        "\n",
        "OPEN_FIGI_APIKEY = 'your-figi-api-key'  # Replace with your API key\n",
        "os.environ[\"OPENAI_API_KEY\"] = 'your-openai-api-key'  # Replace with your API key\n",
        "\n",
        "# Initialize clients\n",
        "llm = LlamaOpenAI(model=\"gpt-4o-mini\", temperature=0)\n",
        "ofc = OpenFigiClient(api_key=OPEN_FIGI_APIKEY)\n",
        "ofc.connect()\n"
      ]
    },
    {
      "cell_type": "code",
      "execution_count": null,
      "metadata": {
        "id": "0k7G7EIzZBp5"
      },
      "outputs": [],
      "source": [
        "def get_figis(tickers):\n",
        "    \"\"\"\n",
        "    Get FIGIs for a list of ticker symbols.\n",
        "\n",
        "    Args:\n",
        "        tickers (list): List of ticker symbols\n",
        "\n",
        "    Returns:\n",
        "        list: List of corresponding FIGI identifiers\n",
        "    \"\"\"\n",
        "    df_final = pd.DataFrame({\n",
        "        'idType': ['TICKER'] * len(tickers),\n",
        "        'idValue': tickers,\n",
        "        'exchCode': ['US'] * len(tickers)\n",
        "    })\n",
        "\n",
        "    result = ofc.map(df_final)\n",
        "    return result['figi'].tolist()\n",
        "\n",
        "def get_figi_name_dict(keyword):\n",
        "    \"\"\"\n",
        "    Search for securities matching a keyword and return FIGI to name mapping.\n",
        "\n",
        "    Args:\n",
        "        keyword (str): Search term for security names\n",
        "\n",
        "    Returns:\n",
        "        dict: Dictionary mapping FIGIs to security names\n",
        "    \"\"\"\n",
        "    results = ofc.search(\n",
        "        keyword,\n",
        "        result_limit=10,\n",
        "        marketSecDes='Equity',\n",
        "        exchCode='US'\n",
        "    )\n",
        "\n",
        "    return {row['figi']: row['name'] for _, row in results.iterrows()}\n",
        "\n",
        "def create_figi_agent(user_query: str):\n",
        "    \"\"\"\n",
        "    Creates an agent that decides whether to use direct FIGI lookup by ticker\n",
        "    or search by keyword based on the user's query.\n",
        "\n",
        "    Args:\n",
        "        user_query (str): User's question about finding FIGIs\n",
        "\n",
        "    Returns:\n",
        "        Response: Agent's response containing FIGI information\n",
        "    \"\"\"\n",
        "    prompt = \"\"\"\n",
        "    You are a FIGI lookup expert. Your task is to analyze the user query and decide whether to:\n",
        "    1. Use get_figis() when exact tickers are provided\n",
        "    2. Use get_figi_name_dict() when searching by company name or keyword\n",
        "\n",
        "    The two functions available to you are:\n",
        "\n",
        "    1. get_figis(tickers: List[str]) -> List[str]\n",
        "       - Use when you have exact ticker symbols\n",
        "       - Input: List of ticker symbols (e.g., [\"AAPL\", \"MSFT\"])\n",
        "       - Returns: List of corresponding FIGIs\n",
        "\n",
        "    2. get_figi_name_dict(keyword: str) -> Dict[str, str]\n",
        "       - Use when searching by company name or keyword\n",
        "       - Input: Search keyword (e.g., \"Apple\" or \"semiconductor\")\n",
        "       - Returns: Dictionary mapping FIGIs to company names\n",
        "\n",
        "    Choose the most appropriate function based on whether the query contains:\n",
        "    - Specific ticker symbols (use get_figis)\n",
        "    - Company names or industry keywords (use get_figi_name_dict)\n",
        "    \"\"\"\n",
        "\n",
        "    functions_list = [get_figis, get_figi_name_dict]\n",
        "    agent = OpenAIAgent.from_tools(\n",
        "        tools=[FunctionTool.from_defaults(fn=fn) for fn in functions_list],\n",
        "        prefix_messages=[ChatMessage(role=\"system\", content=prompt)],\n",
        "        verbose=True,\n",
        "        llm=LlamaOpenAI(model=\"gpt-4o-mini\")\n",
        "    )\n",
        "\n",
        "    return agent.query(user_query)"
      ]
    },
    {
      "cell_type": "code",
      "execution_count": null,
      "metadata": {
        "id": "xaukJ5jDZBp6",
        "outputId": "a389de4a-7ca7-497c-817d-9b9ed4873927"
      },
      "outputs": [
        {
          "name": "stdout",
          "output_type": "stream",
          "text": [
            "Added user message to memory: Find FIGIs for AAPL and MSFT\n",
            "=== Calling Function ===\n",
            "Calling function: get_figis with args: {\"tickers\":[\"AAPL\",\"MSFT\"]}\n",
            "Got output: ['BBG000B9XRY4', 'BBG000BPH459']\n",
            "========================\n",
            "\n",
            "The FIGIs for AAPL and MSFT are as follows:\n",
            "- AAPL: BBG000B9XRY4\n",
            "- MSFT: BBG000BPH459\n"
          ]
        }
      ],
      "source": [
        "r1 = create_figi_agent(\"Find FIGIs for AAPL and MSFT\")\n",
        "print(r1)\n"
      ]
    },
    {
      "cell_type": "code",
      "execution_count": null,
      "metadata": {
        "id": "kYBV15VyZBp6",
        "outputId": "e0283fea-bef1-4384-c36d-3a10e6aec03b"
      },
      "outputs": [
        {
          "name": "stdout",
          "output_type": "stream",
          "text": [
            "Added user message to memory: Find FIGIs for SPDR etfs\n",
            "=== Calling Function ===\n",
            "Calling function: get_figi_name_dict with args: {\"keyword\":\"SPDR ETF\"}\n",
            "Got output: {'BBG000PG8LL8': 'SPDR PORTFOLIO EUROPE ETF', 'BBG000RFRRV3': 'SPDR PORTFOLIO TIPS ETF', 'BBG000C9R1B2': 'SPDR NYSE TECHNOLOGY ETF', 'BBG000C9KLL4': 'SPDR GLOBAL DOW ETF', 'BBG01MZLS2N5': 'SPDR PORTFOLIO TREASURY ETF', 'BBG01PNQ84Y6': 'SPDR GALAXY HDAE ETF', 'BBG000D73SW9': 'SPDR S&P PHARMACEUTICALS ETF', 'BBG000KMKPY3': 'SPDR S&P BANK ETF', 'BBG000KMNWV8': 'SPDR S&P INSURANCE ETF', 'BBG000MQVF45': 'SPDR S&P SEMICONDUCTOR ETF'}\n",
            "========================\n",
            "\n",
            "Here are the FIGIs for SPDR ETFs:\n",
            "\n",
            "- **SPDR PORTFOLIO EUROPE ETF**: BBG000PG8LL8\n",
            "- **SPDR PORTFOLIO TIPS ETF**: BBG000RFRRV3\n",
            "- **SPDR NYSE TECHNOLOGY ETF**: BBG000C9R1B2\n",
            "- **SPDR GLOBAL DOW ETF**: BBG000C9KLL4\n",
            "- **SPDR PORTFOLIO TREASURY ETF**: BBG01MZLS2N5\n",
            "- **SPDR GALAXY HDAE ETF**: BBG01PNQ84Y6\n",
            "- **SPDR S&P PHARMACEUTICALS ETF**: BBG000D73SW9\n",
            "- **SPDR S&P BANK ETF**: BBG000KMKPY3\n",
            "- **SPDR S&P INSURANCE ETF**: BBG000KMNWV8\n",
            "- **SPDR S&P SEMICONDUCTOR ETF**: BBG000MQVF45\n"
          ]
        }
      ],
      "source": [
        "response = create_figi_agent(\"Find FIGIs for SPDR etfs\")\n",
        "print(response)"
      ]
    },
    {
      "cell_type": "code",
      "execution_count": null,
      "metadata": {
        "id": "N8H1HbVpZBp7"
      },
      "outputs": [],
      "source": []
    }
  ],
  "metadata": {
    "kernelspec": {
      "display_name": "avanzai",
      "language": "python",
      "name": "python3"
    },
    "language_info": {
      "codemirror_mode": {
        "name": "ipython",
        "version": 3
      },
      "file_extension": ".py",
      "mimetype": "text/x-python",
      "name": "python",
      "nbconvert_exporter": "python",
      "pygments_lexer": "ipython3",
      "version": "3.9.12"
    },
    "colab": {
      "provenance": [],
      "include_colab_link": true
    }
  },
  "nbformat": 4,
  "nbformat_minor": 0
}